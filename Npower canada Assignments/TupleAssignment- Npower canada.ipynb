{
 "cells": [
  {
   "cell_type": "code",
   "execution_count": 1,
   "id": "08c8d500",
   "metadata": {},
   "outputs": [
    {
     "data": {
      "text/plain": [
       "('NPower', 'JDA', 'Tuesday', 30, 'February', 2023)"
      ]
     },
     "execution_count": 1,
     "metadata": {},
     "output_type": "execute_result"
    }
   ],
   "source": [
    "#Q1 Create myTuple tuple with the follwoing values (\"NPower\",\"JDA\",\"Tuesday\",30,'February',2023)\n",
    "mytuple=(\"NPower\",\"JDA\",\"Tuesday\",30,'February',2023)\n",
    "mytuple"
   ]
  },
  {
   "cell_type": "code",
   "execution_count": 2,
   "id": "c67a159f",
   "metadata": {},
   "outputs": [
    {
     "data": {
      "text/plain": [
       "tuple"
      ]
     },
     "execution_count": 2,
     "metadata": {},
     "output_type": "execute_result"
    }
   ],
   "source": [
    "#Q2 What is the type of myTuple\n",
    "type(mytuple)"
   ]
  },
  {
   "cell_type": "code",
   "execution_count": 3,
   "id": "771d08c5",
   "metadata": {},
   "outputs": [
    {
     "data": {
      "text/plain": [
       "6"
      ]
     },
     "execution_count": 3,
     "metadata": {},
     "output_type": "execute_result"
    }
   ],
   "source": [
    "#Q3 What is the length of myTuple\n",
    "len(mytuple)"
   ]
  },
  {
   "cell_type": "code",
   "execution_count": 41,
   "id": "ccf4e15e",
   "metadata": {},
   "outputs": [
    {
     "data": {
      "text/plain": [
       "('NPower', 'JDA', 'Tuesday', 30, 'February', 2023)"
      ]
     },
     "execution_count": 41,
     "metadata": {},
     "output_type": "execute_result"
    }
   ],
   "source": [
    "#Q4 print the values in each index #Use regular indexing \n",
    "\n",
    "mytuple[0:6]\n"
   ]
  },
  {
   "cell_type": "code",
   "execution_count": 86,
   "id": "4d069a91",
   "metadata": {},
   "outputs": [
    {
     "data": {
      "text/plain": [
       "('NPower', 'JDA', 'Tuesday', 30, 'February')"
      ]
     },
     "execution_count": 86,
     "metadata": {},
     "output_type": "execute_result"
    }
   ],
   "source": [
    "#Q5 print the values in each index #Use negative indexing \n",
    "mytuple[-7:-1]"
   ]
  },
  {
   "cell_type": "code",
   "execution_count": 34,
   "id": "f8a71813",
   "metadata": {},
   "outputs": [
    {
     "name": "stdout",
     "output_type": "stream",
     "text": [
      "<class 'str'>\n",
      "<class 'str'>\n",
      "<class 'str'>\n",
      "<class 'int'>\n",
      "<class 'str'>\n",
      "<class 'int'>\n"
     ]
    }
   ],
   "source": [
    "#Q6 what is the type of each value\n",
    "for i in mytuple:\n",
    "    x=type(i)\n",
    "    print(x)"
   ]
  },
  {
   "cell_type": "code",
   "execution_count": 48,
   "id": "fd264e22",
   "metadata": {},
   "outputs": [
    {
     "name": "stdout",
     "output_type": "stream",
     "text": [
      "NPower\n",
      "JDA\n",
      "Tuesday\n",
      "30\n",
      "February\n",
      "2023\n"
     ]
    }
   ],
   "source": [
    "#Q7 unpack myTuple in the following variables name,program,dayName,month,day,yea\n",
    "# print the variables \n",
    "name,program,dayName,day,month,year=mytuple\n",
    "print(name)\n",
    "print(program)\n",
    "print(dayName)\n",
    "print(day)\n",
    "print(month)\n",
    "print(year)\n"
   ]
  },
  {
   "cell_type": "code",
   "execution_count": 55,
   "id": "170fefdb",
   "metadata": {},
   "outputs": [
    {
     "name": "stdout",
     "output_type": "stream",
     "text": [
      "('NPower', 'JDA', 'Tuesday')\n"
     ]
    }
   ],
   "source": [
    "#Q8 unpack myTuple2 in the following variables name,program,dayName.\n",
    "# What will happen to variables (name,program,dayName) and (month,day,year)\n",
    "name,program,dayName,*day,month,year=mytuple\n",
    "mytuple2=name,program,dayName\n",
    "print(mytuple2)\n"
   ]
  },
  {
   "cell_type": "code",
   "execution_count": 87,
   "id": "1e8fa51f",
   "metadata": {},
   "outputs": [
    {
     "data": {
      "text/plain": [
       "(2023, 'February', 30, 'Tuesday', 'JDA', 'NPower')"
      ]
     },
     "execution_count": 87,
     "metadata": {},
     "output_type": "execute_result"
    }
   ],
   "source": [
    "#Q9 Reverse myTuple, output should looks like (2021,3,30,\"Tuesday\",\"JDA\",\"NPower\")\n",
    "mytuple[::-1]"
   ]
  },
  {
   "cell_type": "code",
   "execution_count": 90,
   "id": "5e174d67",
   "metadata": {},
   "outputs": [
    {
     "name": "stdout",
     "output_type": "stream",
     "text": [
      "(('Coursera', 'course', 6), 'week', (2, 'Lists', 'Tuple'))\n"
     ]
    }
   ],
   "source": [
    "#Q10 Create nestedTuple=((\"Coursera\",\"course\",6),(\"week\",(2,\"Lists\",\"Tuple\")))\n",
    "a=(\"Coursera\",\"course\",6)\n",
    "b=('week')\n",
    "c=(2,\"Lists\",\"Tuple\")\n",
    "nestedTuple=(a,b,c)\n",
    "print(nestedTuple)"
   ]
  },
  {
   "cell_type": "code",
   "execution_count": 93,
   "id": "82f9db1c",
   "metadata": {},
   "outputs": [
    {
     "data": {
      "text/plain": [
       "('week',)"
      ]
     },
     "execution_count": 93,
     "metadata": {},
     "output_type": "execute_result"
    }
   ],
   "source": [
    "#Q11 What is the output of nestedTuple[1:2]\n",
    "nestedTuple[1:2]"
   ]
  },
  {
   "cell_type": "code",
   "execution_count": 96,
   "id": "979c49bf",
   "metadata": {},
   "outputs": [
    {
     "name": "stdout",
     "output_type": "stream",
     "text": [
      "('Coursera', 'course', 6)\n",
      "week\n",
      "(2, 'Lists', 'Tuple')\n"
     ]
    }
   ],
   "source": [
    "#Q12 print each element in the nestedTuple\n",
    "print(nestedTuple[0])\n",
    "print(nestedTuple[1])\n",
    "print(nestedTuple[2])"
   ]
  },
  {
   "cell_type": "code",
   "execution_count": 98,
   "id": "3ca4e3e6",
   "metadata": {},
   "outputs": [
    {
     "data": {
      "text/plain": [
       "(2, 'Lists', 'Tuple')"
      ]
     },
     "execution_count": 98,
     "metadata": {},
     "output_type": "execute_result"
    }
   ],
   "source": [
    "#Q13 Access (2,\"Lists\",\"Tuple\") from nestedTuple\n",
    "nestedTuple[2]"
   ]
  },
  {
   "cell_type": "code",
   "execution_count": 99,
   "id": "777ea2c1",
   "metadata": {},
   "outputs": [
    {
     "data": {
      "text/plain": [
       "'Lists'"
      ]
     },
     "execution_count": 99,
     "metadata": {},
     "output_type": "execute_result"
    }
   ],
   "source": [
    "#Q14 Access the value \"Lists\" from nestedTuple\n",
    "nestedTuple[2][1]"
   ]
  },
  {
   "cell_type": "code",
   "execution_count": 100,
   "id": "cb0980b2",
   "metadata": {},
   "outputs": [
    {
     "data": {
      "text/plain": [
       "'Tuple'"
      ]
     },
     "execution_count": 100,
     "metadata": {},
     "output_type": "execute_result"
    }
   ],
   "source": [
    "#Q15 Access the value \"Tuple\" from nestedTuple\n",
    "nestedTuple[2][2]"
   ]
  },
  {
   "cell_type": "code",
   "execution_count": 101,
   "id": "85a7ac49",
   "metadata": {},
   "outputs": [
    {
     "data": {
      "text/plain": [
       "'course'"
      ]
     },
     "execution_count": 101,
     "metadata": {},
     "output_type": "execute_result"
    }
   ],
   "source": [
    "#Q16 Access the value \"course\" from nestedTuple\n",
    "nestedTuple[0][1]"
   ]
  },
  {
   "cell_type": "code",
   "execution_count": 103,
   "id": "6deb4eb8",
   "metadata": {},
   "outputs": [
    {
     "name": "stdout",
     "output_type": "stream",
     "text": [
      "(('Coursera', 'course', 6), 'week', (2, 'Lists', 'Tuple'), 'NPower', 'JDA', 'Tuesday', 30, 'February', 2023)\n"
     ]
    }
   ],
   "source": [
    "#Q17 Concatenate myTuple with nestedTuple\n",
    "a=(nestedTuple+mytuple)\n",
    "print(a)"
   ]
  },
  {
   "cell_type": "code",
   "execution_count": 112,
   "id": "68629f51",
   "metadata": {},
   "outputs": [
    {
     "name": "stdout",
     "output_type": "stream",
     "text": [
      "((('Coursera', 'course', 6), 'week', (2, 'Lists', 'Tuple'), 'NPower', 'JDA', 'Tuesday', 30, 'February', 2023), 'piruthiha')\n"
     ]
    }
   ],
   "source": [
    "#Q18 add your name to the tuple\n",
    "b=(('piruthiha'))\n",
    "c=(a,b)\n",
    "print(c)"
   ]
  },
  {
   "cell_type": "code",
   "execution_count": 114,
   "id": "a42a8418",
   "metadata": {},
   "outputs": [
    {
     "name": "stdout",
     "output_type": "stream",
     "text": [
      "True\n"
     ]
    }
   ],
   "source": [
    "#Q19 check whether Coursera exists within myTuple\n",
    "# NOTE \"in\" doesn't work properly with nested tuples\n",
    "string='coursera'\n",
    "for string in c:\n",
    "    print(True)\n",
    "    break"
   ]
  },
  {
   "cell_type": "code",
   "execution_count": 116,
   "id": "c5678043",
   "metadata": {},
   "outputs": [
    {
     "name": "stdout",
     "output_type": "stream",
     "text": [
      "True\n"
     ]
    }
   ],
   "source": [
    "#Q20 check whether 55 exists within testTuple\n",
    "testTuple=(1,2,33,55,6,55)\n",
    "num=55\n",
    "for num in testTuple:\n",
    "    print(True)\n",
    "    break"
   ]
  },
  {
   "cell_type": "code",
   "execution_count": 121,
   "id": "a561273e",
   "metadata": {},
   "outputs": [
    {
     "name": "stdout",
     "output_type": "stream",
     "text": [
      "('NPower', 'JDA', 'Tuesday', 30, 'February', 2023)\n",
      "1\n",
      "5\n"
     ]
    }
   ],
   "source": [
    "#Q21 Find the index of JDA in myTuple\n",
    "# Find the index of 'Coursera' in myTuple\n",
    "# NOTE index doesn't work properly with nested tuples # Wrong output\n",
    "print(mytuple)\n",
    "print(mytuple.index('JDA'))\n",
    "print(mytuple.index(2023))"
   ]
  },
  {
   "cell_type": "code",
   "execution_count": 124,
   "id": "52f58474",
   "metadata": {},
   "outputs": [
    {
     "ename": "IndexError",
     "evalue": "tuple index out of range",
     "output_type": "error",
     "traceback": [
      "\u001b[1;31m---------------------------------------------------------------------------\u001b[0m",
      "\u001b[1;31mIndexError\u001b[0m                                Traceback (most recent call last)",
      "\u001b[1;32m~\\AppData\\Local\\Temp\\ipykernel_16592\\142203480.py\u001b[0m in \u001b[0;36m<module>\u001b[1;34m\u001b[0m\n\u001b[0;32m      1\u001b[0m \u001b[1;31m#Q22 print index 8 from myTuple\u001b[0m\u001b[1;33m\u001b[0m\u001b[1;33m\u001b[0m\u001b[0m\n\u001b[1;32m----> 2\u001b[1;33m \u001b[0mprint\u001b[0m\u001b[1;33m(\u001b[0m\u001b[0mmytuple\u001b[0m\u001b[1;33m[\u001b[0m\u001b[1;36m8\u001b[0m\u001b[1;33m]\u001b[0m\u001b[1;33m)\u001b[0m\u001b[1;33m\u001b[0m\u001b[1;33m\u001b[0m\u001b[0m\n\u001b[0m",
      "\u001b[1;31mIndexError\u001b[0m: tuple index out of range"
     ]
    }
   ],
   "source": [
    "#Q22 print index 8 from myTuple\n",
    "print(mytuple[8])"
   ]
  },
  {
   "cell_type": "code",
   "execution_count": 125,
   "id": "67873017",
   "metadata": {},
   "outputs": [
    {
     "name": "stdout",
     "output_type": "stream",
     "text": [
      "30\n",
      "Tuesday\n"
     ]
    }
   ],
   "source": [
    "#Q23 Get the 4th element from the begining of myTuple and 4th element from last \n",
    "print(mytuple[3])\n",
    "print(mytuple[-4])"
   ]
  },
  {
   "cell_type": "code",
   "execution_count": 132,
   "id": "c85541a8",
   "metadata": {},
   "outputs": [
    {
     "data": {
      "text/plain": [
       "2"
      ]
     },
     "execution_count": 132,
     "metadata": {},
     "output_type": "execute_result"
    }
   ],
   "source": [
    "#Q24 Find how many times 55 appeared in testTuple [Hint: Use method count()]\n",
    "x=testTuple.count(55)\n",
    "x"
   ]
  },
  {
   "cell_type": "code",
   "execution_count": null,
   "id": "60f1a7a9",
   "metadata": {},
   "outputs": [],
   "source": []
  }
 ],
 "metadata": {
  "kernelspec": {
   "display_name": "Python 3 (ipykernel)",
   "language": "python",
   "name": "python3"
  },
  "language_info": {
   "codemirror_mode": {
    "name": "ipython",
    "version": 3
   },
   "file_extension": ".py",
   "mimetype": "text/x-python",
   "name": "python",
   "nbconvert_exporter": "python",
   "pygments_lexer": "ipython3",
   "version": "3.9.13"
  }
 },
 "nbformat": 4,
 "nbformat_minor": 5
}
